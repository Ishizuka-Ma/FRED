{
 "cells": [
  {
   "cell_type": "markdown",
   "id": "c8a1db6f-0d98-42b3-b0a8-fbe19ccb2596",
   "metadata": {
    "tags": []
   },
   "source": [
    "# FREDの米国経済指標の取得"
   ]
  },
  {
   "cell_type": "markdown",
   "id": "b1e155de-df37-4f89-8ad0-2c94f1ea414a",
   "metadata": {
    "tags": []
   },
   "source": [
    "## Fred API\n",
    "- 参考:https://www.youtube.com/watch?v=OjlMTN4Uq0k&ab_channel=K_DM%E3%80%90%E6%A9%9F%E6%A2%B0%E5%AD%A6%E7%BF%92xPython%E3%80%91  \n",
    "- 公式ページ：https://fred.stlouisfed.org/docs/api/fred/?ref=datons.ai\n",
    "- 取得したAPIキーを、新しい環境変数FRED_API_KEYに登録：\n",
    "    - https://qiita.com/redrabbit1104/items/38a2011c27048ca61794  \n",
    "    - https://qiita.com/w_tkmn/items/5f23211d49bfbfc667af\n",
    "    - https://kakakakakku.hatenablog.com/entry/2019/03/01/222035\n",
    "    - ターミナルやシェルで設定した環境変数が、IDE内の実行環境に引き継がれないことがある。→IDE内の環境設定を確認し、環境変数が引き継がれるように設定\n"
   ]
  },
  {
   "cell_type": "markdown",
   "id": "1ae93f6c-36e6-4684-a89a-80d320c13bf6",
   "metadata": {
    "jp-MarkdownHeadingCollapsed": true,
    "tags": []
   },
   "source": [
    "## 米国経済指標  "
   ]
  },
  {
   "cell_type": "markdown",
   "id": "6e8f98ad-d27c-4f30-9b5f-d4716e438b27",
   "metadata": {
    "tags": []
   },
   "source": [
    "\n",
    "FRED（Federal Reserve Economic Data）APIは、経済や金融市場のデータを提供するもので、様々なデータが利用されています。以下はFRED APIでよく利用されるデータの代表例です：\n",
    "\n",
    "GDP（国内総生産）\n",
    "経済の全体的な規模や成長率を把握するために使用されます。\n",
    "例: \"Gross Domestic Product (GDP)\"（コード: GDP）\n",
    "\n",
    "失業率（Unemployment Rate）\n",
    "労働市場の健全性を評価するために使われます。\n",
    "例: \"Unemployment Rate\"（コード: UNRATE）\n",
    "\n",
    "CPI（消費者物価指数）\n",
    "インフレーションの指標として使用され、価格の変動を追跡します。\n",
    "例: \"Consumer Price Index for All Urban Consumers\"（コード: CPIAUCSL）\n",
    "\n",
    "金利（Interest Rates）\n",
    "経済政策の重要な指標で、短期および長期の金利に関するデータがあります。\n",
    "例: \"Effective Federal Funds Rate\"（コード: FEDFUNDS）\n",
    "\n",
    "住宅市場データ（Housing Market Data）\n",
    "住宅価格や住宅販売数など、経済全体に大きな影響を与える指標です。\n",
    "例: \"House Price Index\"（コード: HPIPONM226S）\n",
    "\n",
    "インフレーション期待（Inflation Expectations）\n",
    "市場や消費者が将来のインフレをどのように見ているかを示します。\n",
    "例: \"5-Year, 5-Year Forward Inflation Expectation Rate\"（コード: T5YIFR）\n",
    "\n",
    "M2（マネーサプライ）\n",
    "経済に流通している貨幣の総量を示し、金融政策の効果を測るために使われます。\n",
    "例: \"M2 Money Stock\"（コード: M2SL）\n",
    "これらのデータセットは、経済分析、金融市場予測、政策立案などの分野で幅広く活用されています。\n",
    "\n",
    "企業利益（Corporate Profits）\n",
    "企業の収益性や経済全体の健康状態を示す指標です。\n",
    "例: \"Corporate Profits After Tax\"（コード: CP）\n",
    "\n",
    "貿易収支（Trade Balance）\n",
    "国の輸出入の差を示し、経済の国際的な競争力を反映します。\n",
    "例: \"U.S. International Trade in Goods and Services\"（コード: BOPGSTB）\n",
    "\n",
    "個人消費支出（Personal Consumption Expenditures, PCE）\n",
    "消費者の支出動向を把握するために使われる重要なデータで、特にインフレ指標としても注目されます。\n",
    "例: \"Personal Consumption Expenditures\"（コード: PCE）\n",
    "\n",
    "労働市場データ（Employment Data）\n",
    "雇用状況に関する詳細なデータが含まれ、失業率だけでなく、雇用者数や労働力参加率なども利用可能です。\n",
    "例: \"Total Nonfarm Payrolls\"（コード: PAYEMS）\n",
    "\n",
    "生産者物価指数（Producer Price Index, PPI）\n",
    "企業が購入する商品の価格を追跡し、コストの変動を把握するための指標です。\n",
    "例: \"Producer Price Index by Commodity\"（コード: PPIACO）\n",
    "\n",
    "ISM製造業指数（ISM Manufacturing Index）\n",
    "製造業の活動状況を示す経済指標で、景気の拡大・縮小を早期に察知するために利用されます。\n",
    "例: \"ISM Manufacturing: PMI Composite Index\"（コード: NAPM）\n",
    "\n",
    "住宅着工件数（Housing Starts）\n",
    "新たに建設が開始された住宅の数で、住宅市場や経済全体の先行指標とされます。\n",
    "例: \"Housing Starts: Total New Privately Owned\"（コード: HOUST）\n",
    "\n",
    "小売売上高（Retail Sales）\n",
    "消費支出の動向を把握するために使われる指標で、消費者の購買力や景気の動きを示します。\n",
    "例: \"Advance Retail Sales: Retail Trade\"（コード: RSXFS）\n",
    "\n",
    "金融ストレス指数（Financial Stress Index）\n",
    "金融市場におけるリスクや不確実性を測定する指標です。\n",
    "例: \"St. Louis Fed Financial Stress Index\"（コード: STLFSI2）\n",
    "\n",
    "政府債務（Government Debt）\n",
    "政府の負債状況や財政健全性を示す指標です。\n",
    "例: \"Federal Debt: Total Public Debt\"（コード: GFDEBTN）\n",
    "\n",
    "消費者信頼感指数（Consumer Confidence Index）\n",
    "消費者の経済に対する信頼感を示し、将来の消費行動や経済成長を予測するのに使われます。\n",
    "例: \"Consumer Sentiment Index\"（コード: UMCSENT）\n",
    "\n",
    "耐久財受注（Durable Goods Orders）\n",
    "景気の先行指標として使われ、企業の投資や消費者の大きな支出を反映します。\n",
    "例: \"New Orders for Durable Goods\"（コード: DGORDER）\n",
    "\n"
   ]
  },
  {
   "cell_type": "markdown",
   "id": "8449bfef-8a66-4240-9c74-782d3a580fdc",
   "metadata": {},
   "source": [
    "## コード"
   ]
  },
  {
   "cell_type": "code",
   "execution_count": 1,
   "id": "6cf6ad7e-b8c2-4b5c-b78b-2994ee3d8dfb",
   "metadata": {
    "tags": []
   },
   "outputs": [],
   "source": [
    "import os\n",
    "import pandas as pd\n",
    "from fredapi import Fred"
   ]
  },
  {
   "cell_type": "code",
   "execution_count": 2,
   "id": "b55db524-498f-4c3f-a0ed-aa6eee0daf2b",
   "metadata": {
    "tags": []
   },
   "outputs": [],
   "source": [
    "# 環境変数からAPIキーを取得\n",
    "# ターミナルからjupyter labを起動する前に「export FRED_API_KEY='（API入力）'」を実行しておくこと\n",
    "\n",
    "API_KEY = os.getenv(\"FRED_API_KEY\")\n",
    "if API_KEY is None:\n",
    "    raise ValueError(\"APIキーが環境変数から取得できていないので、FRED_API_KEYを設定すること。\")\n"
   ]
  },
  {
   "cell_type": "code",
   "execution_count": 3,
   "id": "083d30f6-9d27-4b71-8d4d-3d8e1b1ef2ae",
   "metadata": {
    "tags": []
   },
   "outputs": [],
   "source": [
    "# 取得するデータのコード\n",
    "data_codes = {\n",
    "    \"GDP\": \"国内総生産 (GDP)\",\n",
    "    \"UNRATE\": \"米国失業率\",\n",
    "    \"CPIAUCSL\": \"消費者物価指数 (CPI)\",\n",
    "    # \"CORESTICKM159SFRBATL\": \"スティッキープライス消費者物価指数（食料とエネルギーを除く）\",\n",
    "    # \"MEDCPIM158SFRBCLE\": \"消費者物価指数CPI\",\n",
    "    \"FEDFUNDS\": \"フェデラルファンド金利\",\n",
    "    \"HPIPONM226S\": \"住宅価格指数\",\n",
    "    \"T5YIFR\": \"5年後の5年間のインフレ期待率\",\n",
    "    \"M2SL\": \"M2マネーストック\",\n",
    "    \"CP\": \"企業利益（税引後）\",\n",
    "    \"BOPGSTB\": \"国際貿易収支（商品とサービス）\",\n",
    "    \"PCE\": \"個人消費支出 (PCE)\",\n",
    "      #PCE 個人消費支出\n",
    "    # \"DPCERD3Q086SBEA\" \"個人消費支出 (暗黙の価格デフレーター)\",\n",
    "    # \"PCEPILFE\": \"食料・エネルギーを除く個人消費支出（連鎖型物価指数）\",\n",
    "    \"PAYEMS\": \"非農業部門雇用者数\",\n",
    "    \"PPIACO\": \"生産者物価指数 (PPI)\",\n",
    "    \"NAPM\": \"ISM製造業指数\",\n",
    "    \"HOUST\": \"住宅着工件数\",\n",
    "    \"RSXFS\": \"小売売上高\",\n",
    "    \"STLFSI2\": \"セントルイス連邦準備銀行金融ストレス指数\",\n",
    "    \"GFDEBTN\": \"連邦政府債務（総額）\",\n",
    "    \"UMCSENT\": \"消費者信頼感指数\",\n",
    "    \"DGORDER\": \"耐久財受注\",\n",
    "    \"SP500\": \"SP500\",\n",
    "    \"DFEDTARU\":\"米国政策金利\",\n",
    "    \"T10Y2Y\": \"長短金利差（10年米国債と2年米国債）\",\n",
    "    \"DGS10\": \"長期金利　10年\",\n",
    "    \"DGS2\": \"短期金利　2年\"\n",
    "}"
   ]
  },
  {
   "cell_type": "code",
   "execution_count": 4,
   "id": "d1189761-9ae3-4c6c-8079-ddf48e62e6bf",
   "metadata": {
    "scrolled": true,
    "tags": []
   },
   "outputs": [
    {
     "name": "stdout",
     "output_type": "stream",
     "text": [
      "GDP\n",
      "国内総生産 (GDP)\n",
      "取得成功：国内総生産 (GDP) (GDP)\n",
      "UNRATE\n",
      "米国失業率\n",
      "取得成功：米国失業率 (UNRATE)\n",
      "CPIAUCSL\n",
      "消費者物価指数 (CPI)\n",
      "取得成功：消費者物価指数 (CPI) (CPIAUCSL)\n",
      "FEDFUNDS\n",
      "フェデラルファンド金利\n",
      "取得成功：フェデラルファンド金利 (FEDFUNDS)\n",
      "HPIPONM226S\n",
      "住宅価格指数\n",
      "取得成功：住宅価格指数 (HPIPONM226S)\n",
      "T5YIFR\n",
      "5年後の5年間のインフレ期待率\n",
      "取得成功：5年後の5年間のインフレ期待率 (T5YIFR)\n",
      "M2SL\n",
      "M2マネーストック\n",
      "取得成功：M2マネーストック (M2SL)\n",
      "CP\n",
      "企業利益（税引後）\n",
      "取得成功：企業利益（税引後） (CP)\n",
      "BOPGSTB\n",
      "国際貿易収支（商品とサービス）\n",
      "取得成功：国際貿易収支（商品とサービス） (BOPGSTB)\n",
      "PCE\n",
      "個人消費支出 (PCE)\n",
      "取得成功：個人消費支出 (PCE) (PCE)\n",
      "PAYEMS\n",
      "非農業部門雇用者数\n",
      "取得成功：非農業部門雇用者数 (PAYEMS)\n",
      "PPIACO\n",
      "生産者物価指数 (PPI)\n",
      "取得成功：生産者物価指数 (PPI) (PPIACO)\n",
      "NAPM\n",
      "ISM製造業指数\n",
      "取得失敗：ISM製造業指数 (NAPM): Bad Request.  The series does not exist.\n",
      "HOUST\n",
      "住宅着工件数\n",
      "取得成功：住宅着工件数 (HOUST)\n",
      "RSXFS\n",
      "小売売上高\n",
      "取得成功：小売売上高 (RSXFS)\n",
      "STLFSI2\n",
      "セントルイス連邦準備銀行金融ストレス指数\n",
      "取得成功：セントルイス連邦準備銀行金融ストレス指数 (STLFSI2)\n",
      "GFDEBTN\n",
      "連邦政府債務（総額）\n",
      "取得成功：連邦政府債務（総額） (GFDEBTN)\n",
      "UMCSENT\n",
      "消費者信頼感指数\n",
      "取得成功：消費者信頼感指数 (UMCSENT)\n",
      "DGORDER\n",
      "耐久財受注\n",
      "取得成功：耐久財受注 (DGORDER)\n",
      "SP500\n",
      "SP500\n",
      "取得成功：SP500 (SP500)\n",
      "DFEDTARU\n",
      "米国政策金利\n",
      "取得成功：米国政策金利 (DFEDTARU)\n",
      "T10Y2Y\n",
      "長短金利差（10年米国債と2年米国債）\n",
      "取得成功：長短金利差（10年米国債と2年米国債） (T10Y2Y)\n",
      "DGS10\n",
      "長期金利　10年\n",
      "取得成功：長期金利　10年 (DGS10)\n",
      "DGS2\n",
      "短期金利　2年\n",
      "取得成功：短期金利　2年 (DGS2)\n"
     ]
    }
   ],
   "source": [
    "fred = Fred(api_key=API_KEY)\n",
    "\n",
    "# データ取得\n",
    "def get_fred_data(fred, data_codes):\n",
    "    data_dict = {}\n",
    "    for code, description in data_codes.items():\n",
    "        try:\n",
    "            # FREDからデータを取得\n",
    "            data = fred.get_series(code)\n",
    "            data_dict[description] = data\n",
    "            print(f\"取得成功：{description} ({code})\")\n",
    "        except Exception as e:\n",
    "            print(f\"取得失敗：{description} ({code}): {e}\")\n",
    "    return data_dict\n",
    "\n",
    "# すべてのデータを1つのデータフレームに統合\n",
    "def combine_fred_data(fred_data):\n",
    "    combined_df = pd.DataFrame()\n",
    "\n",
    "    for description, data in fred_data.items():\n",
    "        # データをDataFrameに変換し、列名を説明に変更\n",
    "        df = pd.DataFrame(data, columns=[description])\n",
    "        \n",
    "        # combined_dfに結合（期間が異なる場合はNaNで埋める）\n",
    "        if combined_df.empty:\n",
    "            combined_df = df\n",
    "        else:\n",
    "            combined_df = combined_df.join(df, how='outer')\n",
    "    \n",
    "    return combined_df\n",
    "\n",
    "\n",
    "\n",
    "fred_data = get_fred_data(fred, data_codes)\n",
    "all_data_df = pd.DataFrame(fred_data)\n",
    "all_data_df.to_csv('fred_data.csv', index=True)"
   ]
  },
  {
   "cell_type": "code",
   "execution_count": 5,
   "id": "63e31b43-bdb4-4d94-bd12-1da4820244b9",
   "metadata": {},
   "outputs": [
    {
     "data": {
      "text/plain": [
       "国内総生産 (GDP)             18442\n",
       "米国失業率                   17832\n",
       "消費者物価指数 (CPI)           17820\n",
       "フェデラルファンド金利             17910\n",
       "住宅価格指数                  18350\n",
       "5年後の5年間のインフレ期待率         13321\n",
       "M2マネーストック               17965\n",
       "企業利益（税引後）               18442\n",
       "国際貿易収支（商品とサービス）         18361\n",
       "個人消費支出 (PCE)            17965\n",
       "非農業部門雇用者数               17724\n",
       "生産者物価指数 (PPI)           17412\n",
       "住宅着工件数                  17965\n",
       "小売売上高                   18361\n",
       "セントルイス連邦準備銀行金融ストレス指数    17289\n",
       "連邦政府債務（総額）              18518\n",
       "消費者信頼感指数                18101\n",
       "耐久財受注                   18362\n",
       "SP500                   16235\n",
       "米国政策金利                  13000\n",
       "長短金利差（10年米国債と2年米国債）      6682\n",
       "長期金利　10年                 3091\n",
       "短期金利　2年                  6683\n",
       "dtype: int64"
      ]
     },
     "execution_count": 5,
     "metadata": {},
     "output_type": "execute_result"
    }
   ],
   "source": [
    "all_data_df.isnull().sum()"
   ]
  },
  {
   "cell_type": "code",
   "execution_count": 6,
   "id": "883ef452-fb18-4208-a2d1-a90d41300e9e",
   "metadata": {},
   "outputs": [
    {
     "data": {
      "text/plain": [
       "18752"
      ]
     },
     "execution_count": 6,
     "metadata": {},
     "output_type": "execute_result"
    }
   ],
   "source": [
    "len(all_data_df)"
   ]
  },
  {
   "cell_type": "code",
   "execution_count": null,
   "id": "269bd57f-f3a5-4460-ba9e-ffc7992f4921",
   "metadata": {},
   "outputs": [],
   "source": []
  }
 ],
 "metadata": {
  "kernelspec": {
   "display_name": "Python 3 (ipykernel)",
   "language": "python",
   "name": "python3"
  },
  "language_info": {
   "codemirror_mode": {
    "name": "ipython",
    "version": 3
   },
   "file_extension": ".py",
   "mimetype": "text/x-python",
   "name": "python",
   "nbconvert_exporter": "python",
   "pygments_lexer": "ipython3",
   "version": "3.11.3"
  }
 },
 "nbformat": 4,
 "nbformat_minor": 5
}
